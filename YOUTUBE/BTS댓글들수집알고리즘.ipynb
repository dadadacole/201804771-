{
  "nbformat": 4,
  "nbformat_minor": 0,
  "metadata": {
    "colab": {
      "name": "BTS댓글들수집알고리즘.ipynb",
      "provenance": []
    },
    "kernelspec": {
      "name": "python3",
      "display_name": "Python 3"
    }
  },
  "cells": [
    {
      "cell_type": "code",
      "metadata": {
        "colab": {
          "base_uri": "https://localhost:8080/"
        },
        "id": "O2fpDz9nPP1Y",
        "outputId": "bcf3818f-c8d8-4bf1-fad8-09e58f35c9d0"
      },
      "source": [
        "import sys\r\n",
        "\r\n",
        "# install chromium, its driver, and selenium\r\n",
        "if 'google.colab' in sys.modules:\r\n",
        "    !apt-get update\r\n",
        "    !apt install chromium-chromedriver\r\n",
        "    !cp /usr/lib/chromium-browser/chromedriver /usr/bin\r\n",
        "    !pip install selenium\r\n",
        "\r\n",
        "# set options to be headless, ..\r\n",
        "import time\r\n",
        "from selenium import webdriver\r\n",
        "from selenium.webdriver.common.by import By\r\n",
        "from selenium.webdriver.common.keys import Keys\r\n",
        "from selenium.webdriver.support.ui import WebDriverWait\r\n",
        "from selenium.webdriver.support import expected_conditions as EC\r\n",
        "\r\n",
        "options = webdriver.ChromeOptions()\r\n",
        "options.add_argument('--headless')\r\n",
        "options.add_argument('--no-sandbox')\r\n",
        "options.add_argument('--disable-dev-shm-usage')\r\n",
        "\r\n",
        "data=[]\r\n",
        "\r\n",
        "with webdriver.Chrome('chromedriver',options=options) as driver:\r\n",
        "    wait = WebDriverWait(driver,15)\r\n",
        "    driver.get(\"https://www.youtube.com/watch?v=kTlv5_Bs8aw&list=PL6Ri1UOk51t6Y11lbr0FwHfcz4DoaOilM\") ## 대상 유튜브 주소 입력!\r\n",
        "\r\n",
        "    for item in range(10): ## 수집량 입력 --> 기본 값은 200건 수집 MIC DROP\r\n",
        "        wait.until(EC.visibility_of_element_located((By.TAG_NAME, \"body\"))).send_keys(Keys.END)\r\n",
        "        #time.sleep(15)\r\n",
        "\r\n",
        "    for comment in wait.until(EC.presence_of_all_elements_located((By.CSS_SELECTOR, \"#content\"))):\r\n",
        "        data.append(comment.text)\r\n",
        "\r\n",
        "import pandas as pd   \r\n",
        "결과 = pd.DataFrame(data, columns=['comment'])\r\n",
        "결과.head()\r\n",
        "\r\n",
        "결과.to_csv('비티에스4.csv', header='true', encoding='utf-8')"
      ],
      "execution_count": 2,
      "outputs": [
        {
          "output_type": "stream",
          "text": [
            "\r0% [Working]\r            \rHit:1 http://security.ubuntu.com/ubuntu bionic-security InRelease\n",
            "\r0% [Connecting to archive.ubuntu.com (91.189.88.142)] [Connected to cloud.r-pro\r0% [1 InRelease gpgv 88.7 kB] [Connecting to archive.ubuntu.com (91.189.88.142)\r                                                                               \rIgn:2 https://developer.download.nvidia.com/compute/cuda/repos/ubuntu1804/x86_64  InRelease\n",
            "\r0% [1 InRelease gpgv 88.7 kB] [Waiting for headers] [Connected to cloud.r-proje\r                                                                               \rHit:3 https://cloud.r-project.org/bin/linux/ubuntu bionic-cran40/ InRelease\n",
            "Ign:4 https://developer.download.nvidia.com/compute/machine-learning/repos/ubuntu1804/x86_64  InRelease\n",
            "Hit:5 http://ppa.launchpad.net/c2d4u.team/c2d4u4.0+/ubuntu bionic InRelease\n",
            "Hit:6 http://archive.ubuntu.com/ubuntu bionic InRelease\n",
            "Hit:7 https://developer.download.nvidia.com/compute/cuda/repos/ubuntu1804/x86_64  Release\n",
            "Hit:8 https://developer.download.nvidia.com/compute/machine-learning/repos/ubuntu1804/x86_64  Release\n",
            "Hit:9 http://archive.ubuntu.com/ubuntu bionic-updates InRelease\n",
            "Hit:10 http://ppa.launchpad.net/graphics-drivers/ppa/ubuntu bionic InRelease\n",
            "Hit:11 http://archive.ubuntu.com/ubuntu bionic-backports InRelease\n",
            "Reading package lists... Done\n",
            "Reading package lists... Done\n",
            "Building dependency tree       \n",
            "Reading state information... Done\n",
            "chromium-chromedriver is already the newest version (87.0.4280.66-0ubuntu0.18.04.1).\n",
            "0 upgraded, 0 newly installed, 0 to remove and 30 not upgraded.\n",
            "cp: '/usr/lib/chromium-browser/chromedriver' and '/usr/bin/chromedriver' are the same file\n",
            "Requirement already satisfied: selenium in /usr/local/lib/python3.6/dist-packages (3.141.0)\n",
            "Requirement already satisfied: urllib3 in /usr/local/lib/python3.6/dist-packages (from selenium) (1.24.3)\n"
          ],
          "name": "stdout"
        }
      ]
    }
  ]
}